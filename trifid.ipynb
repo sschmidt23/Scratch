{
 "cells": [
  {
   "cell_type": "code",
   "execution_count": 1,
   "metadata": {
    "collapsed": true
   },
   "outputs": [],
   "source": [
    "import aplpy \n",
    "import numpy as np\n",
    "import matplotlib.pyplot as plt\n",
    "%matplotlib inline"
   ]
  },
  {
   "cell_type": "code",
   "execution_count": 2,
   "metadata": {},
   "outputs": [
    {
     "name": "stderr",
     "output_type": "stream",
     "text": [
      "/Users/sam/anaconda/lib/python2.7/site-packages/pyfits/__init__.py:22: PyFITSDeprecationWarning: PyFITS is deprecated, please use astropy.io.fits\n",
      "  PyFITSDeprecationWarning)  # noqa\n"
     ]
    }
   ],
   "source": [
    "import pyfits"
   ]
  },
  {
   "cell_type": "markdown",
   "metadata": {},
   "source": [
    "documentation for make_rgb_image is here:\n",
    "https://aplpy.readthedocs.io/en/v0.9.9/_generated/aplpy.rgb.make_rgb_image.html"
   ]
  },
  {
   "cell_type": "markdown",
   "metadata": {},
   "source": [
    "input files should be in the order \"R\", \"G\", \"B\", the function has options to set min and max either with pixel values, or with percentiles.  "
   ]
  },
  {
   "cell_type": "code",
   "execution_count": 34,
   "metadata": {},
   "outputs": [
    {
     "name": "stdout",
     "output_type": "stream",
     "text": [
      "INFO: Red: [aplpy.rgb]\n",
      "INFO: vmin = -7.113e+00 (auto) [aplpy.rgb]\n",
      "INFO: vmax =  2.294e+02 (auto) [aplpy.rgb]\n",
      "INFO: Green: [aplpy.rgb]\n",
      "INFO: vmin = -5.590e+00 (auto) [aplpy.rgb]\n",
      "INFO: vmax =  2.032e+02 (auto) [aplpy.rgb]\n",
      "INFO: Blue: [aplpy.rgb]\n",
      "INFO: vmin = -2.970e+00 (auto) [aplpy.rgb]\n",
      "INFO: vmax =  6.148e+01 (auto) [aplpy.rgb]\n"
     ]
    }
   ],
   "source": [
    "testimage3 = aplpy.make_rgb_image((\"Trifid_trim_K.fits\",\"Trifid_trim_H.fits\",\"Trifid_trim_J.fits\"),output='Trifid_test_asinhtretch.tiff',\n",
    "                                 stretch_r ='arcsinh', stretch_g='arcsinh',stretch_b='arcsinh',\n",
    "                                pmin_r=.07,pmin_g=.07,pmin_b=.07,pmax_r=98.62,pmax_g=98.83,pmax_b=99.1)"
   ]
  },
  {
   "cell_type": "code",
   "execution_count": 27,
   "metadata": {},
   "outputs": [
    {
     "name": "stdout",
     "output_type": "stream",
     "text": [
      "INFO: Red: [aplpy.rgb]\n",
      "INFO: vmin = -7.605e+00 (auto) [aplpy.rgb]\n",
      "INFO: vmax =  1.580e+02 (auto) [aplpy.rgb]\n",
      "INFO: Green: [aplpy.rgb]\n",
      "INFO: vmin = -5.854e+00 (auto) [aplpy.rgb]\n",
      "INFO: vmax =  1.464e+02 (auto) [aplpy.rgb]\n",
      "INFO: Blue: [aplpy.rgb]\n",
      "INFO: vmin = -3.270e+00 (auto) [aplpy.rgb]\n",
      "INFO: vmax =  4.527e+01 (auto) [aplpy.rgb]\n"
     ]
    }
   ],
   "source": [
    "testimage3 = aplpy.make_rgb_image((\"Trifid_trim_K.fits\",\"Trifid_trim_H.fits\",\"Trifid_trim_J.fits\"),output='Trifid_test_logstretch.tiff',\n",
    "                                 stretch_r ='log', stretch_g='log',stretch_b='log',\n",
    "                                pmin_r=.05,pmin_g=.05,pmin_b=.05,pmax_r=98.,pmax_g=98.4,pmax_b=98.8)"
   ]
  },
  {
   "cell_type": "code",
   "execution_count": null,
   "metadata": {
    "collapsed": true
   },
   "outputs": [],
   "source": []
  },
  {
   "cell_type": "code",
   "execution_count": null,
   "metadata": {
    "collapsed": true
   },
   "outputs": [],
   "source": []
  },
  {
   "cell_type": "code",
   "execution_count": null,
   "metadata": {
    "collapsed": true
   },
   "outputs": [],
   "source": []
  },
  {
   "cell_type": "code",
   "execution_count": 61,
   "metadata": {},
   "outputs": [
    {
     "name": "stdout",
     "output_type": "stream",
     "text": [
      "INFO: Red: [aplpy.rgb]\n",
      "INFO: vmin =  1.825e+02 (auto) [aplpy.rgb]\n",
      "INFO: vmax =  5.677e+02 (auto) [aplpy.rgb]\n",
      "INFO: Green: [aplpy.rgb]\n",
      "INFO: vmin =  4.799e+02 (auto) [aplpy.rgb]\n",
      "INFO: vmax =  1.312e+03 (auto) [aplpy.rgb]\n",
      "INFO: Blue: [aplpy.rgb]\n",
      "INFO: vmin =  1.549e+02 (auto) [aplpy.rgb]\n",
      "INFO: vmax =  4.260e+02 (auto) [aplpy.rgb]\n"
     ]
    }
   ],
   "source": [
    " testimage3 = aplpy.make_rgb_image((\"M51_Ha_combo_shift.fit\",\"M51_V_combo.fit\",\"M51_B_combo.fit\"),output='M51_test_asinhstretch_Final_BVHa.tiff',\n",
    "                                 stretch_r ='arcsinh', stretch_g='arcsinh',stretch_b='arcsinh',\n",
    "                                pmin_r=15.,pmin_g=15.,pmin_b=15.,pmax_r=99.875,pmax_g=99.955,pmax_b=99.95)"
   ]
  },
  {
   "cell_type": "code",
   "execution_count": 52,
   "metadata": {},
   "outputs": [
    {
     "name": "stdout",
     "output_type": "stream",
     "text": [
      "INFO: Red: [aplpy.rgb]\n",
      "INFO: vmin =  1.825e+02 (auto) [aplpy.rgb]\n",
      "INFO: vmax =  5.677e+02 (auto) [aplpy.rgb]\n",
      "INFO: Green: [aplpy.rgb]\n",
      "INFO: vmin =  4.799e+02 (auto) [aplpy.rgb]\n",
      "INFO: vmax =  1.367e+03 (auto) [aplpy.rgb]\n",
      "INFO: Blue: [aplpy.rgb]\n",
      "INFO: vmin =  1.549e+02 (auto) [aplpy.rgb]\n",
      "INFO: vmax =  4.260e+02 (auto) [aplpy.rgb]\n"
     ]
    }
   ],
   "source": [
    " testimage3 = aplpy.make_rgb_image((\"M51_Ha_combo_shift.fit\",\"M51_V_combo.fit\",\"M51_B_combo.fit\"),output='M51_test_logstretch_Final_BVHa.tiff',\n",
    "                                 stretch_r ='log', stretch_g='log',stretch_b='log',\n",
    "                                pmin_r=15.,pmin_g=15.,pmin_b=15.,pmax_r=99.875,pmax_g=99.96,pmax_b=99.95)"
   ]
  },
  {
   "cell_type": "code",
   "execution_count": null,
   "metadata": {
    "collapsed": true
   },
   "outputs": [],
   "source": []
  },
  {
   "cell_type": "markdown",
   "metadata": {},
   "source": [
    "#Try BV SII"
   ]
  },
  {
   "cell_type": "code",
   "execution_count": 11,
   "metadata": {},
   "outputs": [
    {
     "name": "stdout",
     "output_type": "stream",
     "text": [
      "INFO: Red: [aplpy.rgb]\n",
      "INFO: vmin =  2.048e+02 (auto) [aplpy.rgb]\n",
      "INFO: vmax =  5.927e+02 (auto) [aplpy.rgb]\n",
      "INFO: Green: [aplpy.rgb]\n",
      "INFO: vmin =  4.799e+02 (auto) [aplpy.rgb]\n",
      "INFO: vmax =  1.312e+03 (auto) [aplpy.rgb]\n",
      "INFO: Blue: [aplpy.rgb]\n",
      "INFO: vmin =  1.549e+02 (auto) [aplpy.rgb]\n",
      "INFO: vmax =  4.260e+02 (auto) [aplpy.rgb]\n"
     ]
    }
   ],
   "source": [
    "testimage3 = aplpy.make_rgb_image((\"M51_SII_combo_shift.fit\",\"M51_V_combo.fit\",\"M51_B_combo.fit\"),output='M51_test_asinhstretch_Final_BVSII.tiff',\n",
    "                                 stretch_r ='arcsinh', stretch_g='arcsinh',stretch_b='arcsinh',\n",
    "                                pmin_r=15.,pmin_g=15.,pmin_b=15.,pmax_r=99.88,pmax_g=99.955,pmax_b=99.95)"
   ]
  },
  {
   "cell_type": "markdown",
   "metadata": {},
   "source": [
    "#TRY OIII"
   ]
  },
  {
   "cell_type": "code",
   "execution_count": 4,
   "metadata": {},
   "outputs": [
    {
     "name": "stdout",
     "output_type": "stream",
     "text": [
      "INFO: Red: [aplpy.rgb]\n",
      "INFO: vmin =  8.898e+01 (auto) [aplpy.rgb]\n",
      "INFO: vmax =  3.451e+02 (auto) [aplpy.rgb]\n",
      "INFO: Green: [aplpy.rgb]\n",
      "INFO: vmin =  4.799e+02 (auto) [aplpy.rgb]\n",
      "INFO: vmax =  1.367e+03 (auto) [aplpy.rgb]\n",
      "INFO: Blue: [aplpy.rgb]\n",
      "INFO: vmin =  1.549e+02 (auto) [aplpy.rgb]\n",
      "INFO: vmax =  4.260e+02 (auto) [aplpy.rgb]\n"
     ]
    }
   ],
   "source": [
    " testimage3 = aplpy.make_rgb_image((\"M51_OIII_combo.fit\",\"M51_V_combo.fit\",\"M51_B_combo.fit\"),output='M51_test_asinhstretch_Final_BVOIII.tiff',\n",
    "                                 stretch_r ='arcsinh', stretch_g='arcsinh',stretch_b='arcsinh',\n",
    "                                pmin_r=15.,pmin_g=15.,pmin_b=15.,pmax_r=99.85,pmax_g=99.96,pmax_b=99.95)"
   ]
  },
  {
   "cell_type": "markdown",
   "metadata": {},
   "source": [
    "#All 3 narrowbands"
   ]
  },
  {
   "cell_type": "code",
   "execution_count": 7,
   "metadata": {},
   "outputs": [
    {
     "name": "stdout",
     "output_type": "stream",
     "text": [
      "INFO: Red: [aplpy.rgb]\n",
      "INFO: vmin =  2.069e+02 (auto) [aplpy.rgb]\n",
      "INFO: vmax =  5.587e+02 (auto) [aplpy.rgb]\n",
      "INFO: Green: [aplpy.rgb]\n",
      "INFO: vmin =  1.844e+02 (auto) [aplpy.rgb]\n",
      "INFO: vmax =  5.517e+02 (auto) [aplpy.rgb]\n",
      "INFO: Blue: [aplpy.rgb]\n",
      "INFO: vmin =  9.053e+01 (auto) [aplpy.rgb]\n",
      "INFO: vmax =  3.788e+02 (auto) [aplpy.rgb]\n"
     ]
    }
   ],
   "source": [
    "image3 = aplpy.make_rgb_image((\"M51_SII_combo_shift.fit\",\"M51_Ha_combo_shift.fit\",\"M51_OIII_combo.fit\"),output='M51_test_asinhstretch_Final_3narrowband.tiff',\n",
    "                                 stretch_r ='arcsinh', stretch_g='arcsinh',stretch_b='arcsinh',\n",
    "                                pmin_r=19.,pmin_g=19.,pmin_b=19.,pmax_r=99.87,pmax_g=99.87,pmax_b=99.87)"
   ]
  },
  {
   "cell_type": "code",
   "execution_count": 8,
   "metadata": {},
   "outputs": [
    {
     "name": "stdout",
     "output_type": "stream",
     "text": [
      "INFO: Red: [aplpy.rgb]\n",
      "INFO: vmin =  2.069e+02 (auto) [aplpy.rgb]\n",
      "INFO: vmax =  3.720e+02 (auto) [aplpy.rgb]\n",
      "INFO: Green: [aplpy.rgb]\n"
     ]
    },
    {
     "name": "stderr",
     "output_type": "stream",
     "text": [
      "/Users/sam/anaconda/lib/python2.7/site-packages/aplpy/image_util.py:97: RuntimeWarning: invalid value encountered in log10\n",
      "  return np.log10(array / midpoint + 1.) / np.log10(1. / midpoint + 1.)\n"
     ]
    },
    {
     "name": "stdout",
     "output_type": "stream",
     "text": [
      "INFO: vmin =  1.844e+02 (auto) [aplpy.rgb]\n",
      "INFO: vmax =  3.556e+02 (auto) [aplpy.rgb]\n",
      "INFO: Blue: [aplpy.rgb]\n",
      "INFO: vmin =  9.053e+01 (auto) [aplpy.rgb]\n",
      "INFO: vmax =  2.302e+02 (auto) [aplpy.rgb]\n"
     ]
    }
   ],
   "source": [
    "image3 = aplpy.make_rgb_image((\"M51_SII_combo_shift.fit\",\"M51_Ha_combo_shift.fit\",\"M51_OIII_combo.fit\"),output='M51_test_logstretch_Final_3narrowband.tiff',\n",
    "                                 stretch_r ='log', stretch_g='log',stretch_b='log',\n",
    "                                pmin_r=19.,pmin_g=19.,pmin_b=19.,pmax_r=99.69,pmax_g=99.69,pmax_b=99.69)"
   ]
  },
  {
   "cell_type": "code",
   "execution_count": null,
   "metadata": {
    "collapsed": true
   },
   "outputs": [],
   "source": []
  }
 ],
 "metadata": {
  "kernelspec": {
   "display_name": "Python 2",
   "language": "python",
   "name": "python2"
  },
  "language_info": {
   "codemirror_mode": {
    "name": "ipython",
    "version": 2
   },
   "file_extension": ".py",
   "mimetype": "text/x-python",
   "name": "python",
   "nbconvert_exporter": "python",
   "pygments_lexer": "ipython2",
   "version": "2.7.13"
  }
 },
 "nbformat": 4,
 "nbformat_minor": 1
}
